{
  "nbformat": 4,
  "nbformat_minor": 0,
  "metadata": {
    "colab": {
      "provenance": []
    },
    "kernelspec": {
      "name": "python3",
      "display_name": "Python 3"
    },
    "language_info": {
      "name": "python"
    }
  },
  "cells": [
    {
      "cell_type": "markdown",
      "source": [
        "# Pre-Parcial - Taller en Python: Series de Tiempo, Joins, Visualización, Pivot Tables, y Storytelling (100 Puntos)"
      ],
      "metadata": {
        "id": "uxkdVj6VAmtM"
      }
    },
    {
      "cell_type": "markdown",
      "source": [
        "### CORRA LA SIGUIENTE LINEA SOLO UNA VEZ"
      ],
      "metadata": {
        "id": "XhXnl8GQHZbA"
      }
    },
    {
      "cell_type": "code",
      "execution_count": null,
      "metadata": {
        "colab": {
          "base_uri": "https://localhost:8080/"
        },
        "id": "4YY221YsAS0e",
        "outputId": "a7f8744d-11dd-4f12-e366-3e0bd546750f"
      },
      "outputs": [
        {
          "output_type": "stream",
          "name": "stdout",
          "text": [
            "--2024-10-18 04:01:10--  https://github.com/javierherrera1996/lecture_analytics/raw/refs/heads/main/europe_players.zip\n",
            "Resolving github.com (github.com)... 140.82.114.3\n",
            "Connecting to github.com (github.com)|140.82.114.3|:443... connected.\n",
            "HTTP request sent, awaiting response... 302 Found\n",
            "Location: https://raw.githubusercontent.com/javierherrera1996/lecture_analytics/refs/heads/main/europe_players.zip [following]\n",
            "--2024-10-18 04:01:11--  https://raw.githubusercontent.com/javierherrera1996/lecture_analytics/refs/heads/main/europe_players.zip\n",
            "Resolving raw.githubusercontent.com (raw.githubusercontent.com)... 185.199.108.133, 185.199.109.133, 185.199.110.133, ...\n",
            "Connecting to raw.githubusercontent.com (raw.githubusercontent.com)|185.199.108.133|:443... connected.\n",
            "HTTP request sent, awaiting response... 200 OK\n",
            "Length: 4840920 (4.6M) [application/zip]\n",
            "Saving to: ‘europe_players.zip’\n",
            "\n",
            "europe_players.zip  100%[===================>]   4.62M  --.-KB/s    in 0.06s   \n",
            "\n",
            "2024-10-18 04:01:11 (73.6 MB/s) - ‘europe_players.zip’ saved [4840920/4840920]\n",
            "\n",
            "Archive:  europe_players.zip\n",
            "  inflating: Country.csv             \n",
            "  inflating: Team_Attributes.csv     \n",
            "  inflating: Team.csv                \n",
            "  inflating: League.csv              \n",
            "  inflating: Player_Attributes.csv   \n",
            "  inflating: Player.csv              \n",
            "--2024-10-18 04:01:12--  https://github.com/javierherrera1996/lecture_analytics/raw/refs/heads/main/Match.csv.zip\n",
            "Resolving github.com (github.com)... 140.82.113.4\n",
            "Connecting to github.com (github.com)|140.82.113.4|:443... connected.\n",
            "HTTP request sent, awaiting response... 302 Found\n",
            "Location: https://raw.githubusercontent.com/javierherrera1996/lecture_analytics/refs/heads/main/Match.csv.zip [following]\n",
            "--2024-10-18 04:01:13--  https://raw.githubusercontent.com/javierherrera1996/lecture_analytics/refs/heads/main/Match.csv.zip\n",
            "Resolving raw.githubusercontent.com (raw.githubusercontent.com)... 185.199.108.133, 185.199.109.133, 185.199.110.133, ...\n",
            "Connecting to raw.githubusercontent.com (raw.githubusercontent.com)|185.199.108.133|:443... connected.\n",
            "HTTP request sent, awaiting response... 200 OK\n",
            "Length: 23688916 (23M) [application/zip]\n",
            "Saving to: ‘Match.csv.zip’\n",
            "\n",
            "Match.csv.zip       100%[===================>]  22.59M   137MB/s    in 0.2s    \n",
            "\n",
            "2024-10-18 04:01:14 (137 MB/s) - ‘Match.csv.zip’ saved [23688916/23688916]\n",
            "\n",
            "Archive:  Match.csv.zip\n",
            "  inflating: Match.csv               \n",
            "  inflating: __MACOSX/._Match.csv    \n"
          ]
        }
      ],
      "source": [
        "!wget https://github.com/javierherrera1996/lecture_analytics/raw/refs/heads/main/europe_players.zip\n",
        "!unzip europe_players.zip\n",
        "!wget https://github.com/javierherrera1996/lecture_analytics/raw/refs/heads/main/Match.csv.zip\n",
        "!unzip Match.csv.zip"
      ]
    },
    {
      "cell_type": "markdown",
      "source": [
        "##Parte 1: Exploración Inicial de los Datos y Análisis de Medias (20 Puntos)"
      ],
      "metadata": {
        "id": "ExS3HFhGB5JS"
      }
    },
    {
      "cell_type": "markdown",
      "source": [
        "\n",
        "1.1 Cargar y Unir Tablas (10 Puntos)\n",
        "Empezamos cargando las tablas y uniéndolas para facilitar el análisis. En esta etapa se enfoca en unir la tabla de partidos con la de equipos y atributos."
      ],
      "metadata": {
        "id": "op67_z0yBfWD"
      }
    },
    {
      "cell_type": "markdown",
      "source": [
        "Base de Datos:\n",
        "Las tablas disponibles son:\n",
        "\n",
        "*   Country (11 filas, 2 columnas)\n",
        "*   League (11 filas, 3 columnas)\n",
        "*   Match (25,979 filas, 115 columnas)\n",
        "*   Player (11,060 filas, 7 columnas)\n",
        "*   Player_Attributes (183,978 filas, 42 columnas)\n",
        "*   Team (299 filas, 5 columnas)\n",
        "*   Team_Attributes (1,458 filas, 25 columnas)"
      ],
      "metadata": {
        "id": "sK8LqVLcBj1s"
      }
    },
    {
      "cell_type": "markdown",
      "source": [],
      "metadata": {
        "id": "VOQH0br0Dszk"
      }
    },
    {
      "cell_type": "code",
      "source": [
        "import pandas as pd\n",
        "data = pd.read_csv('Match.csv')\n",
        "data.head()"
      ],
      "metadata": {
        "id": "Rv9CmR6tAmd2",
        "outputId": "6c92cdef-35b2-4581-ee4b-4f01408b79f8",
        "colab": {
          "base_uri": "https://localhost:8080/",
          "height": 429
        }
      },
      "execution_count": null,
      "outputs": [
        {
          "output_type": "execute_result",
          "data": {
            "text/plain": [
              "   id  country_id  league_id     season  stage                 date  \\\n",
              "0   1           1          1  2008/2009      1  2008-08-17 00:00:00   \n",
              "1   2           1          1  2008/2009      1  2008-08-16 00:00:00   \n",
              "2   3           1          1  2008/2009      1  2008-08-16 00:00:00   \n",
              "3   4           1          1  2008/2009      1  2008-08-17 00:00:00   \n",
              "4   5           1          1  2008/2009      1  2008-08-16 00:00:00   \n",
              "\n",
              "   match_api_id  home_team_api_id  away_team_api_id  home_team_goal  ...  \\\n",
              "0        492473              9987              9993               1  ...   \n",
              "1        492474             10000              9994               0  ...   \n",
              "2        492475              9984              8635               0  ...   \n",
              "3        492476              9991              9998               5  ...   \n",
              "4        492477              7947              9985               1  ...   \n",
              "\n",
              "    SJA   VCH   VCD   VCA   GBH   GBD   GBA   BSH   BSD   BSA  \n",
              "0  4.00  1.65  3.40  4.50  1.78  3.25  4.00  1.73  3.40  4.20  \n",
              "1  3.80  2.00  3.25  3.25  1.85  3.25  3.75  1.91  3.25  3.60  \n",
              "2  2.50  2.35  3.25  2.65  2.50  3.20  2.50  2.30  3.20  2.75  \n",
              "3  7.50  1.45  3.75  6.50  1.50  3.75  5.50  1.44  3.75  6.50  \n",
              "4  1.73  4.50  3.40  1.65  4.50  3.50  1.65  4.75  3.30  1.67  \n",
              "\n",
              "[5 rows x 115 columns]"
            ],
            "text/html": [
              "\n",
              "  <div id=\"df-1627bab1-ee73-4e15-bfec-e683bc7f998b\" class=\"colab-df-container\">\n",
              "    <div>\n",
              "<style scoped>\n",
              "    .dataframe tbody tr th:only-of-type {\n",
              "        vertical-align: middle;\n",
              "    }\n",
              "\n",
              "    .dataframe tbody tr th {\n",
              "        vertical-align: top;\n",
              "    }\n",
              "\n",
              "    .dataframe thead th {\n",
              "        text-align: right;\n",
              "    }\n",
              "</style>\n",
              "<table border=\"1\" class=\"dataframe\">\n",
              "  <thead>\n",
              "    <tr style=\"text-align: right;\">\n",
              "      <th></th>\n",
              "      <th>id</th>\n",
              "      <th>country_id</th>\n",
              "      <th>league_id</th>\n",
              "      <th>season</th>\n",
              "      <th>stage</th>\n",
              "      <th>date</th>\n",
              "      <th>match_api_id</th>\n",
              "      <th>home_team_api_id</th>\n",
              "      <th>away_team_api_id</th>\n",
              "      <th>home_team_goal</th>\n",
              "      <th>...</th>\n",
              "      <th>SJA</th>\n",
              "      <th>VCH</th>\n",
              "      <th>VCD</th>\n",
              "      <th>VCA</th>\n",
              "      <th>GBH</th>\n",
              "      <th>GBD</th>\n",
              "      <th>GBA</th>\n",
              "      <th>BSH</th>\n",
              "      <th>BSD</th>\n",
              "      <th>BSA</th>\n",
              "    </tr>\n",
              "  </thead>\n",
              "  <tbody>\n",
              "    <tr>\n",
              "      <th>0</th>\n",
              "      <td>1</td>\n",
              "      <td>1</td>\n",
              "      <td>1</td>\n",
              "      <td>2008/2009</td>\n",
              "      <td>1</td>\n",
              "      <td>2008-08-17 00:00:00</td>\n",
              "      <td>492473</td>\n",
              "      <td>9987</td>\n",
              "      <td>9993</td>\n",
              "      <td>1</td>\n",
              "      <td>...</td>\n",
              "      <td>4.00</td>\n",
              "      <td>1.65</td>\n",
              "      <td>3.40</td>\n",
              "      <td>4.50</td>\n",
              "      <td>1.78</td>\n",
              "      <td>3.25</td>\n",
              "      <td>4.00</td>\n",
              "      <td>1.73</td>\n",
              "      <td>3.40</td>\n",
              "      <td>4.20</td>\n",
              "    </tr>\n",
              "    <tr>\n",
              "      <th>1</th>\n",
              "      <td>2</td>\n",
              "      <td>1</td>\n",
              "      <td>1</td>\n",
              "      <td>2008/2009</td>\n",
              "      <td>1</td>\n",
              "      <td>2008-08-16 00:00:00</td>\n",
              "      <td>492474</td>\n",
              "      <td>10000</td>\n",
              "      <td>9994</td>\n",
              "      <td>0</td>\n",
              "      <td>...</td>\n",
              "      <td>3.80</td>\n",
              "      <td>2.00</td>\n",
              "      <td>3.25</td>\n",
              "      <td>3.25</td>\n",
              "      <td>1.85</td>\n",
              "      <td>3.25</td>\n",
              "      <td>3.75</td>\n",
              "      <td>1.91</td>\n",
              "      <td>3.25</td>\n",
              "      <td>3.60</td>\n",
              "    </tr>\n",
              "    <tr>\n",
              "      <th>2</th>\n",
              "      <td>3</td>\n",
              "      <td>1</td>\n",
              "      <td>1</td>\n",
              "      <td>2008/2009</td>\n",
              "      <td>1</td>\n",
              "      <td>2008-08-16 00:00:00</td>\n",
              "      <td>492475</td>\n",
              "      <td>9984</td>\n",
              "      <td>8635</td>\n",
              "      <td>0</td>\n",
              "      <td>...</td>\n",
              "      <td>2.50</td>\n",
              "      <td>2.35</td>\n",
              "      <td>3.25</td>\n",
              "      <td>2.65</td>\n",
              "      <td>2.50</td>\n",
              "      <td>3.20</td>\n",
              "      <td>2.50</td>\n",
              "      <td>2.30</td>\n",
              "      <td>3.20</td>\n",
              "      <td>2.75</td>\n",
              "    </tr>\n",
              "    <tr>\n",
              "      <th>3</th>\n",
              "      <td>4</td>\n",
              "      <td>1</td>\n",
              "      <td>1</td>\n",
              "      <td>2008/2009</td>\n",
              "      <td>1</td>\n",
              "      <td>2008-08-17 00:00:00</td>\n",
              "      <td>492476</td>\n",
              "      <td>9991</td>\n",
              "      <td>9998</td>\n",
              "      <td>5</td>\n",
              "      <td>...</td>\n",
              "      <td>7.50</td>\n",
              "      <td>1.45</td>\n",
              "      <td>3.75</td>\n",
              "      <td>6.50</td>\n",
              "      <td>1.50</td>\n",
              "      <td>3.75</td>\n",
              "      <td>5.50</td>\n",
              "      <td>1.44</td>\n",
              "      <td>3.75</td>\n",
              "      <td>6.50</td>\n",
              "    </tr>\n",
              "    <tr>\n",
              "      <th>4</th>\n",
              "      <td>5</td>\n",
              "      <td>1</td>\n",
              "      <td>1</td>\n",
              "      <td>2008/2009</td>\n",
              "      <td>1</td>\n",
              "      <td>2008-08-16 00:00:00</td>\n",
              "      <td>492477</td>\n",
              "      <td>7947</td>\n",
              "      <td>9985</td>\n",
              "      <td>1</td>\n",
              "      <td>...</td>\n",
              "      <td>1.73</td>\n",
              "      <td>4.50</td>\n",
              "      <td>3.40</td>\n",
              "      <td>1.65</td>\n",
              "      <td>4.50</td>\n",
              "      <td>3.50</td>\n",
              "      <td>1.65</td>\n",
              "      <td>4.75</td>\n",
              "      <td>3.30</td>\n",
              "      <td>1.67</td>\n",
              "    </tr>\n",
              "  </tbody>\n",
              "</table>\n",
              "<p>5 rows × 115 columns</p>\n",
              "</div>\n",
              "    <div class=\"colab-df-buttons\">\n",
              "\n",
              "  <div class=\"colab-df-container\">\n",
              "    <button class=\"colab-df-convert\" onclick=\"convertToInteractive('df-1627bab1-ee73-4e15-bfec-e683bc7f998b')\"\n",
              "            title=\"Convert this dataframe to an interactive table.\"\n",
              "            style=\"display:none;\">\n",
              "\n",
              "  <svg xmlns=\"http://www.w3.org/2000/svg\" height=\"24px\" viewBox=\"0 -960 960 960\">\n",
              "    <path d=\"M120-120v-720h720v720H120Zm60-500h600v-160H180v160Zm220 220h160v-160H400v160Zm0 220h160v-160H400v160ZM180-400h160v-160H180v160Zm440 0h160v-160H620v160ZM180-180h160v-160H180v160Zm440 0h160v-160H620v160Z\"/>\n",
              "  </svg>\n",
              "    </button>\n",
              "\n",
              "  <style>\n",
              "    .colab-df-container {\n",
              "      display:flex;\n",
              "      gap: 12px;\n",
              "    }\n",
              "\n",
              "    .colab-df-convert {\n",
              "      background-color: #E8F0FE;\n",
              "      border: none;\n",
              "      border-radius: 50%;\n",
              "      cursor: pointer;\n",
              "      display: none;\n",
              "      fill: #1967D2;\n",
              "      height: 32px;\n",
              "      padding: 0 0 0 0;\n",
              "      width: 32px;\n",
              "    }\n",
              "\n",
              "    .colab-df-convert:hover {\n",
              "      background-color: #E2EBFA;\n",
              "      box-shadow: 0px 1px 2px rgba(60, 64, 67, 0.3), 0px 1px 3px 1px rgba(60, 64, 67, 0.15);\n",
              "      fill: #174EA6;\n",
              "    }\n",
              "\n",
              "    .colab-df-buttons div {\n",
              "      margin-bottom: 4px;\n",
              "    }\n",
              "\n",
              "    [theme=dark] .colab-df-convert {\n",
              "      background-color: #3B4455;\n",
              "      fill: #D2E3FC;\n",
              "    }\n",
              "\n",
              "    [theme=dark] .colab-df-convert:hover {\n",
              "      background-color: #434B5C;\n",
              "      box-shadow: 0px 1px 3px 1px rgba(0, 0, 0, 0.15);\n",
              "      filter: drop-shadow(0px 1px 2px rgba(0, 0, 0, 0.3));\n",
              "      fill: #FFFFFF;\n",
              "    }\n",
              "  </style>\n",
              "\n",
              "    <script>\n",
              "      const buttonEl =\n",
              "        document.querySelector('#df-1627bab1-ee73-4e15-bfec-e683bc7f998b button.colab-df-convert');\n",
              "      buttonEl.style.display =\n",
              "        google.colab.kernel.accessAllowed ? 'block' : 'none';\n",
              "\n",
              "      async function convertToInteractive(key) {\n",
              "        const element = document.querySelector('#df-1627bab1-ee73-4e15-bfec-e683bc7f998b');\n",
              "        const dataTable =\n",
              "          await google.colab.kernel.invokeFunction('convertToInteractive',\n",
              "                                                    [key], {});\n",
              "        if (!dataTable) return;\n",
              "\n",
              "        const docLinkHtml = 'Like what you see? Visit the ' +\n",
              "          '<a target=\"_blank\" href=https://colab.research.google.com/notebooks/data_table.ipynb>data table notebook</a>'\n",
              "          + ' to learn more about interactive tables.';\n",
              "        element.innerHTML = '';\n",
              "        dataTable['output_type'] = 'display_data';\n",
              "        await google.colab.output.renderOutput(dataTable, element);\n",
              "        const docLink = document.createElement('div');\n",
              "        docLink.innerHTML = docLinkHtml;\n",
              "        element.appendChild(docLink);\n",
              "      }\n",
              "    </script>\n",
              "  </div>\n",
              "\n",
              "\n",
              "<div id=\"df-3098b185-5cd1-4616-8691-5a8257e2f20e\">\n",
              "  <button class=\"colab-df-quickchart\" onclick=\"quickchart('df-3098b185-5cd1-4616-8691-5a8257e2f20e')\"\n",
              "            title=\"Suggest charts\"\n",
              "            style=\"display:none;\">\n",
              "\n",
              "<svg xmlns=\"http://www.w3.org/2000/svg\" height=\"24px\"viewBox=\"0 0 24 24\"\n",
              "     width=\"24px\">\n",
              "    <g>\n",
              "        <path d=\"M19 3H5c-1.1 0-2 .9-2 2v14c0 1.1.9 2 2 2h14c1.1 0 2-.9 2-2V5c0-1.1-.9-2-2-2zM9 17H7v-7h2v7zm4 0h-2V7h2v10zm4 0h-2v-4h2v4z\"/>\n",
              "    </g>\n",
              "</svg>\n",
              "  </button>\n",
              "\n",
              "<style>\n",
              "  .colab-df-quickchart {\n",
              "      --bg-color: #E8F0FE;\n",
              "      --fill-color: #1967D2;\n",
              "      --hover-bg-color: #E2EBFA;\n",
              "      --hover-fill-color: #174EA6;\n",
              "      --disabled-fill-color: #AAA;\n",
              "      --disabled-bg-color: #DDD;\n",
              "  }\n",
              "\n",
              "  [theme=dark] .colab-df-quickchart {\n",
              "      --bg-color: #3B4455;\n",
              "      --fill-color: #D2E3FC;\n",
              "      --hover-bg-color: #434B5C;\n",
              "      --hover-fill-color: #FFFFFF;\n",
              "      --disabled-bg-color: #3B4455;\n",
              "      --disabled-fill-color: #666;\n",
              "  }\n",
              "\n",
              "  .colab-df-quickchart {\n",
              "    background-color: var(--bg-color);\n",
              "    border: none;\n",
              "    border-radius: 50%;\n",
              "    cursor: pointer;\n",
              "    display: none;\n",
              "    fill: var(--fill-color);\n",
              "    height: 32px;\n",
              "    padding: 0;\n",
              "    width: 32px;\n",
              "  }\n",
              "\n",
              "  .colab-df-quickchart:hover {\n",
              "    background-color: var(--hover-bg-color);\n",
              "    box-shadow: 0 1px 2px rgba(60, 64, 67, 0.3), 0 1px 3px 1px rgba(60, 64, 67, 0.15);\n",
              "    fill: var(--button-hover-fill-color);\n",
              "  }\n",
              "\n",
              "  .colab-df-quickchart-complete:disabled,\n",
              "  .colab-df-quickchart-complete:disabled:hover {\n",
              "    background-color: var(--disabled-bg-color);\n",
              "    fill: var(--disabled-fill-color);\n",
              "    box-shadow: none;\n",
              "  }\n",
              "\n",
              "  .colab-df-spinner {\n",
              "    border: 2px solid var(--fill-color);\n",
              "    border-color: transparent;\n",
              "    border-bottom-color: var(--fill-color);\n",
              "    animation:\n",
              "      spin 1s steps(1) infinite;\n",
              "  }\n",
              "\n",
              "  @keyframes spin {\n",
              "    0% {\n",
              "      border-color: transparent;\n",
              "      border-bottom-color: var(--fill-color);\n",
              "      border-left-color: var(--fill-color);\n",
              "    }\n",
              "    20% {\n",
              "      border-color: transparent;\n",
              "      border-left-color: var(--fill-color);\n",
              "      border-top-color: var(--fill-color);\n",
              "    }\n",
              "    30% {\n",
              "      border-color: transparent;\n",
              "      border-left-color: var(--fill-color);\n",
              "      border-top-color: var(--fill-color);\n",
              "      border-right-color: var(--fill-color);\n",
              "    }\n",
              "    40% {\n",
              "      border-color: transparent;\n",
              "      border-right-color: var(--fill-color);\n",
              "      border-top-color: var(--fill-color);\n",
              "    }\n",
              "    60% {\n",
              "      border-color: transparent;\n",
              "      border-right-color: var(--fill-color);\n",
              "    }\n",
              "    80% {\n",
              "      border-color: transparent;\n",
              "      border-right-color: var(--fill-color);\n",
              "      border-bottom-color: var(--fill-color);\n",
              "    }\n",
              "    90% {\n",
              "      border-color: transparent;\n",
              "      border-bottom-color: var(--fill-color);\n",
              "    }\n",
              "  }\n",
              "</style>\n",
              "\n",
              "  <script>\n",
              "    async function quickchart(key) {\n",
              "      const quickchartButtonEl =\n",
              "        document.querySelector('#' + key + ' button');\n",
              "      quickchartButtonEl.disabled = true;  // To prevent multiple clicks.\n",
              "      quickchartButtonEl.classList.add('colab-df-spinner');\n",
              "      try {\n",
              "        const charts = await google.colab.kernel.invokeFunction(\n",
              "            'suggestCharts', [key], {});\n",
              "      } catch (error) {\n",
              "        console.error('Error during call to suggestCharts:', error);\n",
              "      }\n",
              "      quickchartButtonEl.classList.remove('colab-df-spinner');\n",
              "      quickchartButtonEl.classList.add('colab-df-quickchart-complete');\n",
              "    }\n",
              "    (() => {\n",
              "      let quickchartButtonEl =\n",
              "        document.querySelector('#df-3098b185-5cd1-4616-8691-5a8257e2f20e button');\n",
              "      quickchartButtonEl.style.display =\n",
              "        google.colab.kernel.accessAllowed ? 'block' : 'none';\n",
              "    })();\n",
              "  </script>\n",
              "</div>\n",
              "\n",
              "    </div>\n",
              "  </div>\n"
            ],
            "application/vnd.google.colaboratory.intrinsic+json": {
              "type": "dataframe",
              "variable_name": "data"
            }
          },
          "metadata": {},
          "execution_count": 2
        }
      ]
    },
    {
      "cell_type": "code",
      "source": [
        "import pandas as pd\n",
        "\n",
        "match_df['date'] = pd.to_datetime(match_df['date'])\n",
        "team_attributes_df['date'] = pd.to_datetime(team_attributes_df['date'])\n",
        "\n",
        "merged_df = pd.merge(match_df, team_df[['team_api_id', 'team_long_name']], left_on='home_team_api_id', right_on='team_api_id', how='left')\n",
        "merged_df = merged_df.rename(columns={'team_long_name': 'home_team_name'})\n",
        "merged_df = pd.merge(merged_df, team_df[['team_api_id', 'team_long_name']], left_on='away_team_api_id', right_on='team_api_id', how='left')\n",
        "merged_df = merged_df.rename(columns={'team_long_name': 'away_team_name'})\n",
        "\n",
        "final_df = pd.merge(merged_df, team_attributes_df, left_on=['home_team_api_id', 'date'], right_on=['team_api_id', 'date'], how='left')\n",
        "final_df = final_df.rename(columns={col: f'home_{col}' if col != 'team_api_id' else col for col in team_attributes_df.columns})\n",
        "\n",
        "final_df = pd.merge(final_df, team_attributes_df, left_on=['away_team_api_id', 'home_date'], right_on=['team_api_id', 'date'], how='left', suffixes=['', '_away'])\n",
        "final_df = final_df.rename(columns={col: f'away_{col}' if col != 'team_api_id' and not col.startswith('home_') else col for col in team_attributes_df.columns})\n",
        "\n",
        "\n",
        "final_df.head()\n"
      ],
      "metadata": {
        "id": "PPC4Qb7Qzm_L",
        "outputId": "7770393b-7105-4eaa-eb3b-f22c927daa1c",
        "colab": {
          "base_uri": "https://localhost:8080/",
          "height": 342
        }
      },
      "execution_count": null,
      "outputs": [
        {
          "output_type": "execute_result",
          "data": {
            "text/plain": [
              "   id_x  country_id  league_id     season  stage  home_date  match_api_id  \\\n",
              "0     1           1          1  2008/2009      1 2008-08-17        492473   \n",
              "1     2           1          1  2008/2009      1 2008-08-16        492474   \n",
              "2     3           1          1  2008/2009      1 2008-08-16        492475   \n",
              "3     4           1          1  2008/2009      1 2008-08-17        492476   \n",
              "4     5           1          1  2008/2009      1 2008-08-16        492477   \n",
              "\n",
              "   home_team_api_id  away_team_api_id  home_team_goal  ...  \\\n",
              "0              9987              9993               1  ...   \n",
              "1             10000              9994               0  ...   \n",
              "2              9984              8635               0  ...   \n",
              "3              9991              9998               5  ...   \n",
              "4              7947              9985               1  ...   \n",
              "\n",
              "   away_chanceCreationShooting  away_chanceCreationShootingClass  \\\n",
              "0                          NaN                               NaN   \n",
              "1                          NaN                               NaN   \n",
              "2                          NaN                               NaN   \n",
              "3                          NaN                               NaN   \n",
              "4                          NaN                               NaN   \n",
              "\n",
              "   away_chanceCreationPositioningClass  away_defencePressure  \\\n",
              "0                                  NaN                   NaN   \n",
              "1                                  NaN                   NaN   \n",
              "2                                  NaN                   NaN   \n",
              "3                                  NaN                   NaN   \n",
              "4                                  NaN                   NaN   \n",
              "\n",
              "   away_defencePressureClass  away_defenceAggression  \\\n",
              "0                        NaN                     NaN   \n",
              "1                        NaN                     NaN   \n",
              "2                        NaN                     NaN   \n",
              "3                        NaN                     NaN   \n",
              "4                        NaN                     NaN   \n",
              "\n",
              "   away_defenceAggressionClass  away_defenceTeamWidth  \\\n",
              "0                          NaN                    NaN   \n",
              "1                          NaN                    NaN   \n",
              "2                          NaN                    NaN   \n",
              "3                          NaN                    NaN   \n",
              "4                          NaN                    NaN   \n",
              "\n",
              "   away_defenceTeamWidthClass  away_defenceDefenderLineClass  \n",
              "0                         NaN                            NaN  \n",
              "1                         NaN                            NaN  \n",
              "2                         NaN                            NaN  \n",
              "3                         NaN                            NaN  \n",
              "4                         NaN                            NaN  \n",
              "\n",
              "[5 rows x 168 columns]"
            ],
            "text/html": [
              "\n",
              "  <div id=\"df-c8089050-0b23-4270-9462-da27a42ca297\" class=\"colab-df-container\">\n",
              "    <div>\n",
              "<style scoped>\n",
              "    .dataframe tbody tr th:only-of-type {\n",
              "        vertical-align: middle;\n",
              "    }\n",
              "\n",
              "    .dataframe tbody tr th {\n",
              "        vertical-align: top;\n",
              "    }\n",
              "\n",
              "    .dataframe thead th {\n",
              "        text-align: right;\n",
              "    }\n",
              "</style>\n",
              "<table border=\"1\" class=\"dataframe\">\n",
              "  <thead>\n",
              "    <tr style=\"text-align: right;\">\n",
              "      <th></th>\n",
              "      <th>id_x</th>\n",
              "      <th>country_id</th>\n",
              "      <th>league_id</th>\n",
              "      <th>season</th>\n",
              "      <th>stage</th>\n",
              "      <th>home_date</th>\n",
              "      <th>match_api_id</th>\n",
              "      <th>home_team_api_id</th>\n",
              "      <th>away_team_api_id</th>\n",
              "      <th>home_team_goal</th>\n",
              "      <th>...</th>\n",
              "      <th>away_chanceCreationShooting</th>\n",
              "      <th>away_chanceCreationShootingClass</th>\n",
              "      <th>away_chanceCreationPositioningClass</th>\n",
              "      <th>away_defencePressure</th>\n",
              "      <th>away_defencePressureClass</th>\n",
              "      <th>away_defenceAggression</th>\n",
              "      <th>away_defenceAggressionClass</th>\n",
              "      <th>away_defenceTeamWidth</th>\n",
              "      <th>away_defenceTeamWidthClass</th>\n",
              "      <th>away_defenceDefenderLineClass</th>\n",
              "    </tr>\n",
              "  </thead>\n",
              "  <tbody>\n",
              "    <tr>\n",
              "      <th>0</th>\n",
              "      <td>1</td>\n",
              "      <td>1</td>\n",
              "      <td>1</td>\n",
              "      <td>2008/2009</td>\n",
              "      <td>1</td>\n",
              "      <td>2008-08-17</td>\n",
              "      <td>492473</td>\n",
              "      <td>9987</td>\n",
              "      <td>9993</td>\n",
              "      <td>1</td>\n",
              "      <td>...</td>\n",
              "      <td>NaN</td>\n",
              "      <td>NaN</td>\n",
              "      <td>NaN</td>\n",
              "      <td>NaN</td>\n",
              "      <td>NaN</td>\n",
              "      <td>NaN</td>\n",
              "      <td>NaN</td>\n",
              "      <td>NaN</td>\n",
              "      <td>NaN</td>\n",
              "      <td>NaN</td>\n",
              "    </tr>\n",
              "    <tr>\n",
              "      <th>1</th>\n",
              "      <td>2</td>\n",
              "      <td>1</td>\n",
              "      <td>1</td>\n",
              "      <td>2008/2009</td>\n",
              "      <td>1</td>\n",
              "      <td>2008-08-16</td>\n",
              "      <td>492474</td>\n",
              "      <td>10000</td>\n",
              "      <td>9994</td>\n",
              "      <td>0</td>\n",
              "      <td>...</td>\n",
              "      <td>NaN</td>\n",
              "      <td>NaN</td>\n",
              "      <td>NaN</td>\n",
              "      <td>NaN</td>\n",
              "      <td>NaN</td>\n",
              "      <td>NaN</td>\n",
              "      <td>NaN</td>\n",
              "      <td>NaN</td>\n",
              "      <td>NaN</td>\n",
              "      <td>NaN</td>\n",
              "    </tr>\n",
              "    <tr>\n",
              "      <th>2</th>\n",
              "      <td>3</td>\n",
              "      <td>1</td>\n",
              "      <td>1</td>\n",
              "      <td>2008/2009</td>\n",
              "      <td>1</td>\n",
              "      <td>2008-08-16</td>\n",
              "      <td>492475</td>\n",
              "      <td>9984</td>\n",
              "      <td>8635</td>\n",
              "      <td>0</td>\n",
              "      <td>...</td>\n",
              "      <td>NaN</td>\n",
              "      <td>NaN</td>\n",
              "      <td>NaN</td>\n",
              "      <td>NaN</td>\n",
              "      <td>NaN</td>\n",
              "      <td>NaN</td>\n",
              "      <td>NaN</td>\n",
              "      <td>NaN</td>\n",
              "      <td>NaN</td>\n",
              "      <td>NaN</td>\n",
              "    </tr>\n",
              "    <tr>\n",
              "      <th>3</th>\n",
              "      <td>4</td>\n",
              "      <td>1</td>\n",
              "      <td>1</td>\n",
              "      <td>2008/2009</td>\n",
              "      <td>1</td>\n",
              "      <td>2008-08-17</td>\n",
              "      <td>492476</td>\n",
              "      <td>9991</td>\n",
              "      <td>9998</td>\n",
              "      <td>5</td>\n",
              "      <td>...</td>\n",
              "      <td>NaN</td>\n",
              "      <td>NaN</td>\n",
              "      <td>NaN</td>\n",
              "      <td>NaN</td>\n",
              "      <td>NaN</td>\n",
              "      <td>NaN</td>\n",
              "      <td>NaN</td>\n",
              "      <td>NaN</td>\n",
              "      <td>NaN</td>\n",
              "      <td>NaN</td>\n",
              "    </tr>\n",
              "    <tr>\n",
              "      <th>4</th>\n",
              "      <td>5</td>\n",
              "      <td>1</td>\n",
              "      <td>1</td>\n",
              "      <td>2008/2009</td>\n",
              "      <td>1</td>\n",
              "      <td>2008-08-16</td>\n",
              "      <td>492477</td>\n",
              "      <td>7947</td>\n",
              "      <td>9985</td>\n",
              "      <td>1</td>\n",
              "      <td>...</td>\n",
              "      <td>NaN</td>\n",
              "      <td>NaN</td>\n",
              "      <td>NaN</td>\n",
              "      <td>NaN</td>\n",
              "      <td>NaN</td>\n",
              "      <td>NaN</td>\n",
              "      <td>NaN</td>\n",
              "      <td>NaN</td>\n",
              "      <td>NaN</td>\n",
              "      <td>NaN</td>\n",
              "    </tr>\n",
              "  </tbody>\n",
              "</table>\n",
              "<p>5 rows × 168 columns</p>\n",
              "</div>\n",
              "    <div class=\"colab-df-buttons\">\n",
              "\n",
              "  <div class=\"colab-df-container\">\n",
              "    <button class=\"colab-df-convert\" onclick=\"convertToInteractive('df-c8089050-0b23-4270-9462-da27a42ca297')\"\n",
              "            title=\"Convert this dataframe to an interactive table.\"\n",
              "            style=\"display:none;\">\n",
              "\n",
              "  <svg xmlns=\"http://www.w3.org/2000/svg\" height=\"24px\" viewBox=\"0 -960 960 960\">\n",
              "    <path d=\"M120-120v-720h720v720H120Zm60-500h600v-160H180v160Zm220 220h160v-160H400v160Zm0 220h160v-160H400v160ZM180-400h160v-160H180v160Zm440 0h160v-160H620v160ZM180-180h160v-160H180v160Zm440 0h160v-160H620v160Z\"/>\n",
              "  </svg>\n",
              "    </button>\n",
              "\n",
              "  <style>\n",
              "    .colab-df-container {\n",
              "      display:flex;\n",
              "      gap: 12px;\n",
              "    }\n",
              "\n",
              "    .colab-df-convert {\n",
              "      background-color: #E8F0FE;\n",
              "      border: none;\n",
              "      border-radius: 50%;\n",
              "      cursor: pointer;\n",
              "      display: none;\n",
              "      fill: #1967D2;\n",
              "      height: 32px;\n",
              "      padding: 0 0 0 0;\n",
              "      width: 32px;\n",
              "    }\n",
              "\n",
              "    .colab-df-convert:hover {\n",
              "      background-color: #E2EBFA;\n",
              "      box-shadow: 0px 1px 2px rgba(60, 64, 67, 0.3), 0px 1px 3px 1px rgba(60, 64, 67, 0.15);\n",
              "      fill: #174EA6;\n",
              "    }\n",
              "\n",
              "    .colab-df-buttons div {\n",
              "      margin-bottom: 4px;\n",
              "    }\n",
              "\n",
              "    [theme=dark] .colab-df-convert {\n",
              "      background-color: #3B4455;\n",
              "      fill: #D2E3FC;\n",
              "    }\n",
              "\n",
              "    [theme=dark] .colab-df-convert:hover {\n",
              "      background-color: #434B5C;\n",
              "      box-shadow: 0px 1px 3px 1px rgba(0, 0, 0, 0.15);\n",
              "      filter: drop-shadow(0px 1px 2px rgba(0, 0, 0, 0.3));\n",
              "      fill: #FFFFFF;\n",
              "    }\n",
              "  </style>\n",
              "\n",
              "    <script>\n",
              "      const buttonEl =\n",
              "        document.querySelector('#df-c8089050-0b23-4270-9462-da27a42ca297 button.colab-df-convert');\n",
              "      buttonEl.style.display =\n",
              "        google.colab.kernel.accessAllowed ? 'block' : 'none';\n",
              "\n",
              "      async function convertToInteractive(key) {\n",
              "        const element = document.querySelector('#df-c8089050-0b23-4270-9462-da27a42ca297');\n",
              "        const dataTable =\n",
              "          await google.colab.kernel.invokeFunction('convertToInteractive',\n",
              "                                                    [key], {});\n",
              "        if (!dataTable) return;\n",
              "\n",
              "        const docLinkHtml = 'Like what you see? Visit the ' +\n",
              "          '<a target=\"_blank\" href=https://colab.research.google.com/notebooks/data_table.ipynb>data table notebook</a>'\n",
              "          + ' to learn more about interactive tables.';\n",
              "        element.innerHTML = '';\n",
              "        dataTable['output_type'] = 'display_data';\n",
              "        await google.colab.output.renderOutput(dataTable, element);\n",
              "        const docLink = document.createElement('div');\n",
              "        docLink.innerHTML = docLinkHtml;\n",
              "        element.appendChild(docLink);\n",
              "      }\n",
              "    </script>\n",
              "  </div>\n",
              "\n",
              "\n",
              "<div id=\"df-a175162b-0490-4d99-8d32-f3a8c0184308\">\n",
              "  <button class=\"colab-df-quickchart\" onclick=\"quickchart('df-a175162b-0490-4d99-8d32-f3a8c0184308')\"\n",
              "            title=\"Suggest charts\"\n",
              "            style=\"display:none;\">\n",
              "\n",
              "<svg xmlns=\"http://www.w3.org/2000/svg\" height=\"24px\"viewBox=\"0 0 24 24\"\n",
              "     width=\"24px\">\n",
              "    <g>\n",
              "        <path d=\"M19 3H5c-1.1 0-2 .9-2 2v14c0 1.1.9 2 2 2h14c1.1 0 2-.9 2-2V5c0-1.1-.9-2-2-2zM9 17H7v-7h2v7zm4 0h-2V7h2v10zm4 0h-2v-4h2v4z\"/>\n",
              "    </g>\n",
              "</svg>\n",
              "  </button>\n",
              "\n",
              "<style>\n",
              "  .colab-df-quickchart {\n",
              "      --bg-color: #E8F0FE;\n",
              "      --fill-color: #1967D2;\n",
              "      --hover-bg-color: #E2EBFA;\n",
              "      --hover-fill-color: #174EA6;\n",
              "      --disabled-fill-color: #AAA;\n",
              "      --disabled-bg-color: #DDD;\n",
              "  }\n",
              "\n",
              "  [theme=dark] .colab-df-quickchart {\n",
              "      --bg-color: #3B4455;\n",
              "      --fill-color: #D2E3FC;\n",
              "      --hover-bg-color: #434B5C;\n",
              "      --hover-fill-color: #FFFFFF;\n",
              "      --disabled-bg-color: #3B4455;\n",
              "      --disabled-fill-color: #666;\n",
              "  }\n",
              "\n",
              "  .colab-df-quickchart {\n",
              "    background-color: var(--bg-color);\n",
              "    border: none;\n",
              "    border-radius: 50%;\n",
              "    cursor: pointer;\n",
              "    display: none;\n",
              "    fill: var(--fill-color);\n",
              "    height: 32px;\n",
              "    padding: 0;\n",
              "    width: 32px;\n",
              "  }\n",
              "\n",
              "  .colab-df-quickchart:hover {\n",
              "    background-color: var(--hover-bg-color);\n",
              "    box-shadow: 0 1px 2px rgba(60, 64, 67, 0.3), 0 1px 3px 1px rgba(60, 64, 67, 0.15);\n",
              "    fill: var(--button-hover-fill-color);\n",
              "  }\n",
              "\n",
              "  .colab-df-quickchart-complete:disabled,\n",
              "  .colab-df-quickchart-complete:disabled:hover {\n",
              "    background-color: var(--disabled-bg-color);\n",
              "    fill: var(--disabled-fill-color);\n",
              "    box-shadow: none;\n",
              "  }\n",
              "\n",
              "  .colab-df-spinner {\n",
              "    border: 2px solid var(--fill-color);\n",
              "    border-color: transparent;\n",
              "    border-bottom-color: var(--fill-color);\n",
              "    animation:\n",
              "      spin 1s steps(1) infinite;\n",
              "  }\n",
              "\n",
              "  @keyframes spin {\n",
              "    0% {\n",
              "      border-color: transparent;\n",
              "      border-bottom-color: var(--fill-color);\n",
              "      border-left-color: var(--fill-color);\n",
              "    }\n",
              "    20% {\n",
              "      border-color: transparent;\n",
              "      border-left-color: var(--fill-color);\n",
              "      border-top-color: var(--fill-color);\n",
              "    }\n",
              "    30% {\n",
              "      border-color: transparent;\n",
              "      border-left-color: var(--fill-color);\n",
              "      border-top-color: var(--fill-color);\n",
              "      border-right-color: var(--fill-color);\n",
              "    }\n",
              "    40% {\n",
              "      border-color: transparent;\n",
              "      border-right-color: var(--fill-color);\n",
              "      border-top-color: var(--fill-color);\n",
              "    }\n",
              "    60% {\n",
              "      border-color: transparent;\n",
              "      border-right-color: var(--fill-color);\n",
              "    }\n",
              "    80% {\n",
              "      border-color: transparent;\n",
              "      border-right-color: var(--fill-color);\n",
              "      border-bottom-color: var(--fill-color);\n",
              "    }\n",
              "    90% {\n",
              "      border-color: transparent;\n",
              "      border-bottom-color: var(--fill-color);\n",
              "    }\n",
              "  }\n",
              "</style>\n",
              "\n",
              "  <script>\n",
              "    async function quickchart(key) {\n",
              "      const quickchartButtonEl =\n",
              "        document.querySelector('#' + key + ' button');\n",
              "      quickchartButtonEl.disabled = true;  // To prevent multiple clicks.\n",
              "      quickchartButtonEl.classList.add('colab-df-spinner');\n",
              "      try {\n",
              "        const charts = await google.colab.kernel.invokeFunction(\n",
              "            'suggestCharts', [key], {});\n",
              "      } catch (error) {\n",
              "        console.error('Error during call to suggestCharts:', error);\n",
              "      }\n",
              "      quickchartButtonEl.classList.remove('colab-df-spinner');\n",
              "      quickchartButtonEl.classList.add('colab-df-quickchart-complete');\n",
              "    }\n",
              "    (() => {\n",
              "      let quickchartButtonEl =\n",
              "        document.querySelector('#df-a175162b-0490-4d99-8d32-f3a8c0184308 button');\n",
              "      quickchartButtonEl.style.display =\n",
              "        google.colab.kernel.accessAllowed ? 'block' : 'none';\n",
              "    })();\n",
              "  </script>\n",
              "</div>\n",
              "\n",
              "    </div>\n",
              "  </div>\n"
            ],
            "application/vnd.google.colaboratory.intrinsic+json": {
              "type": "dataframe",
              "variable_name": "final_df"
            }
          },
          "metadata": {},
          "execution_count": 10
        }
      ]
    },
    {
      "cell_type": "markdown",
      "source": [
        "Pregunta de Negocio:\n",
        "\n",
        "¿Cómo afecta la localía o el hecho de ser visitante en el rendimiento de los equipos? ¿Cuáles son los equipos que tienden a ganar más en casa o fuera de ella?\n",
        "\n",
        "R/ El dataset sugiere que una significante parte de los equipos que jugaron como local ganaron sus partidos"
      ],
      "metadata": {
        "id": "me3cUpRZFT-o"
      }
    },
    {
      "cell_type": "markdown",
      "source": [
        "1.2 Análisis de Medias (10 Puntos)\n",
        "Antes de realizar análisis complejos, obtenemos algunas estadísticas descriptivas que nos den una visión general de los datos. Calculemos las medias de goles en casa y fuera de casa."
      ],
      "metadata": {
        "id": "NEyalyPxFWE9"
      }
    },
    {
      "cell_type": "code",
      "source": [
        "avg_home_goals = final_df['home_team_goal'].mean()\n",
        "avg_away_goals = final_df['away_team_goal'].mean()\n",
        "\n",
        "print(f\"Average Home Goals: {avg_home_goals}\")\n",
        "print(f\"Average Away Goals: {avg_away_goals}\")"
      ],
      "metadata": {
        "id": "_3i0qa_ZFVsU",
        "outputId": "513150ca-df2b-48bd-937a-796154e37e59",
        "colab": {
          "base_uri": "https://localhost:8080/"
        }
      },
      "execution_count": null,
      "outputs": [
        {
          "output_type": "stream",
          "name": "stdout",
          "text": [
            "Average Home Goals: 1.5445937103044767\n",
            "Average Away Goals: 1.1609376804341969\n"
          ]
        }
      ]
    },
    {
      "cell_type": "markdown",
      "source": [
        "Pregunta de Negocio:\n",
        "\n",
        "¿Qué implicaciones tiene el hecho de que la media de goles locales sea mayor o menor que la de visitantes? ¿Cómo puede afectar esto las decisiones tácticas y estrategias de los equipos?\n",
        "\n",
        "R/ De la mano con la respuesta anterior, al ser más propensos a ganar como locales, es consecuente que de locales se hagan más goles en tanto que el deporte se gana anotando goles"
      ],
      "metadata": {
        "id": "Y7aSRIXbFcUO"
      }
    },
    {
      "cell_type": "markdown",
      "source": [
        "##Parte 2: Series de Tiempo y Tendencias Temporales (20 Puntos)"
      ],
      "metadata": {
        "id": "b1_1BfNSFf2R"
      }
    },
    {
      "cell_type": "markdown",
      "source": [
        "\n",
        "2.1 Análisis de Tendencias Temporales (10 Puntos)\n",
        "Convertimos la columna de fechas en un formato de tiempo y analizamos la evolución de los goles anotados por temporada, tanto locales como visitantes. Esto ayudará a detectar si hay fluctuaciones en el rendimiento a lo largo del tiempo."
      ],
      "metadata": {
        "id": "vjSQU0IiFdaJ"
      }
    },
    {
      "cell_type": "code",
      "source": [
        "final_df['date'] = pd.to_datetime(final_df['date'])\n",
        "final_df['season'] = final_df['date'].dt.year\n",
        "goals_per_season = final_df.groupby('season')[['home_team_goal', 'away_team_goal']].sum()\n",
        "\n",
        "print(goals_per_season)\n",
        "goals_per_season.plot()"
      ],
      "metadata": {
        "id": "CpDV4SE4150q",
        "outputId": "4cb16b4b-6014-4479-be91-6001ad72ddeb",
        "colab": {
          "base_uri": "https://localhost:8080/",
          "height": 657
        }
      },
      "execution_count": null,
      "outputs": [
        {
          "output_type": "stream",
          "name": "stdout",
          "text": [
            "        home_team_goal  away_team_goal\n",
            "season                                \n",
            "2008              2469            1768\n",
            "2009              4982            3738\n",
            "2010              5059            3646\n",
            "2011              5054            3669\n",
            "2012              5105            3977\n",
            "2013              4887            3719\n",
            "2014              4864            3708\n",
            "2015              5116            3918\n",
            "2016              2591            2017\n"
          ]
        },
        {
          "output_type": "execute_result",
          "data": {
            "text/plain": [
              "<Axes: xlabel='season'>"
            ]
          },
          "metadata": {},
          "execution_count": 21
        },
        {
          "output_type": "display_data",
          "data": {
            "text/plain": [
              "<Figure size 640x480 with 1 Axes>"
            ],
            "image/png": "[encoded data removed]"
          },
          "metadata": {}
        }
      ]
    },
    {
      "cell_type": "markdown",
      "source": [
        "Pregunta de Negocio:\n",
        "\n",
        "¿Cómo varía el número de goles anotados en diferentes temporadas? ¿Existen picos o caídas significativas que puedan estar relacionadas con cambios en la estructura de la liga o en los equipos?\n",
        "\n",
        "R/ de 2008 a 2009 hubo un importante incremento en los goles que se mantuvo relativamente estable hasta que en 2016 hubo una importante caída"
      ],
      "metadata": {
        "id": "2UfjqxolFuvI"
      }
    },
    {
      "cell_type": "markdown",
      "source": [
        "2.2 Visualización de Goles por Temporada (10 Puntos)\n",
        "Visualizamos las tendencias temporales utilizando un gráfico de líneas para identificar mejor los patrones."
      ],
      "metadata": {
        "id": "qJA6EkAuFwr6"
      }
    },
    {
      "cell_type": "code",
      "source": [
        "import matplotlib.pyplot as plt\n",
        "import pandas as pd\n",
        "\n",
        "goals_per_season = final_df.groupby('season')[['home_team_goal', 'away_team_goal']].sum().sum(axis=1)\n",
        "\n",
        "plt.figure(figsize=(12, 6))\n",
        "plt.plot(goals_per_season.index, goals_per_season.values, marker='o', linestyle='-')\n",
        "plt.title('Total Goals Scored per Season')\n",
        "plt.xlabel('Season')\n",
        "plt.ylabel('Total Goals')\n",
        "plt.grid(True)\n",
        "plt.xticks(rotation=45)\n",
        "plt.show()"
      ],
      "metadata": {
        "id": "MpTyVN41FyOh",
        "outputId": "08a7ed5e-d2af-4090-dfe9-e9ff3829d9e2",
        "colab": {
          "base_uri": "https://localhost:8080/",
          "height": 585
        }
      },
      "execution_count": null,
      "outputs": [
        {
          "output_type": "display_data",
          "data": {
            "text/plain": [
              "<Figure size 1200x600 with 1 Axes>"
            ],
            "image/png": "[encoded data removed]"
          },
          "metadata": {}
        }
      ]
    },
    {
      "cell_type": "markdown",
      "source": [
        "Pregunta de Negocio:\n",
        "\n",
        "¿Cómo puede influir esta tendencia en las decisiones de los equipos para preparar una temporada? ¿Existen ciertos períodos del año donde deberían ajustar su estilo de juego?\n"
      ],
      "metadata": {
        "id": "_SQBjxXMF4Kg"
      }
    },
    {
      "cell_type": "markdown",
      "source": [
        "##Parte 3: Análisis del Impacto de los Atributos del Equipo (20 Puntos)\n"
      ],
      "metadata": {
        "id": "IuqZ67wmF6VU"
      }
    },
    {
      "cell_type": "markdown",
      "source": [
        "3.1 Crosstab para Analizar la Relación entre Atributos y Goles (10 Puntos)\n",
        "Usamos una tabla cruzada para ver si hay alguna correlación entre los atributos del equipo, como la velocidad del juego, y el número de goles anotados."
      ],
      "metadata": {
        "id": "4_htwbcNF7ms"
      }
    },
    {
      "cell_type": "code",
      "source": [
        "final_df['buildUpPlaySpeed_bins'] = pd.cut(final_df['home_buildUpPlaySpeed'], bins=[0, 30, 60, 90, 100], labels=['Slow', 'Medium', 'Fast', 'Very Fast'])\n",
        "\n",
        "crosstab = pd.crosstab(final_df['buildUpPlaySpeed_bins'], final_df['home_team_goal'])\n",
        "\n",
        "print(crosstab)"
      ],
      "metadata": {
        "id": "391N4WsSGBlJ",
        "outputId": "5d40abf7-03ff-4733-ec01-667c17acf31a",
        "colab": {
          "base_uri": "https://localhost:8080/"
        }
      },
      "execution_count": null,
      "outputs": [
        {
          "output_type": "stream",
          "name": "stdout",
          "text": [
            "home_team_goal         0  1  2  3  4\n",
            "buildUpPlaySpeed_bins               \n",
            "Slow                   0  1  1  1  0\n",
            "Medium                 2  5  5  0  1\n",
            "Fast                   3  1  1  1  2\n"
          ]
        }
      ]
    },
    {
      "cell_type": "markdown",
      "source": [
        "Pregunta de Negocio:\n",
        "\n",
        "¿Existe alguna relación clara entre la velocidad del juego de un equipo y el número de goles que anotan? ¿Cómo podrían usar los equipos esta información para ajustar sus estrategias?\n",
        "\n",
        "Entre más veloz el juego más goles se anotan, lo que invita a los equipos a ser explosivos y dinamicos a la hora de desarrollar el juego"
      ],
      "metadata": {
        "id": "OfPfV-SyGEIv"
      }
    },
    {
      "cell_type": "markdown",
      "source": [
        "3.2 Visualización de la Relación entre Velocidad y Goles (10 Puntos)\n",
        "Creamos un gráfico de barras apiladas para representar cómo la velocidad del juego está relacionada con el número de goles anotados."
      ],
      "metadata": {
        "id": "JgJeH_mNGGIx"
      }
    },
    {
      "cell_type": "code",
      "source": [
        "grouped_data = final_df.groupby(['buildUpPlaySpeed_bins', 'home_team_goal'])['home_team_goal'].count().unstack()\n",
        "\n",
        "grouped_data.plot(kind='bar', stacked=True, figsize=(10, 6))\n",
        "plt.title('Relationship between BuildUpPlaySpeed and Goals Scored')\n",
        "plt.xlabel('BuildUpPlaySpeed')\n",
        "plt.ylabel('Number of Goals')\n",
        "plt.legend(title='Goals Scored')\n",
        "plt.xticks(rotation=0)\n",
        "plt.show()"
      ],
      "metadata": {
        "id": "fdpJqShPGGzP",
        "outputId": "a95e1902-9354-4bcb-aba7-64580a00d490",
        "colab": {
          "base_uri": "https://localhost:8080/",
          "height": 619
        }
      },
      "execution_count": null,
      "outputs": [
        {
          "output_type": "stream",
          "name": "stderr",
          "text": [
            "<ipython-input-15-b0fbf60d6a44>:1: FutureWarning: The default of observed=False is deprecated and will be changed to True in a future version of pandas. Pass observed=False to retain current behavior or observed=True to adopt the future default and silence this warning.\n",
            "  grouped_data = final_df.groupby(['buildUpPlaySpeed_bins', 'home_team_goal'])['home_team_goal'].count().unstack()\n"
          ]
        },
        {
          "output_type": "display_data",
          "data": {
            "text/plain": [
              "<Figure size 1000x600 with 1 Axes>"
            ],
            "image/png": "[encoded data removed]"
          },
          "metadata": {}
        }
      ]
    },
    {
      "cell_type": "markdown",
      "source": [
        "Pregunta de Negocio:\n",
        "\n",
        "¿Cómo puede esta información influir en las decisiones tácticas? Si los equipos que juegan a alta velocidad marcan más goles, ¿deberían todos los equipos intentar jugar más rápido?\n",
        "\n",
        "R/Una construcción más rápida del juego puede llevar a más goles, pero no es una táctica universal. Los equipos deben analizar esta información junto con sus propias fortalezas y debilidades, y adaptar su velocidad en función del oponente. Si bien un juego más rápido puede aumentar la puntuación, también conlleva el riesgo de vulnerabilidades defensivas. Las decisiones tácticas deben equilibrar estos factores para obtener resultados óptimos."
      ],
      "metadata": {
        "id": "-mMSFswEGL9W"
      }
    },
    {
      "cell_type": "markdown",
      "source": [
        "##Parte 4: Uso de Pivot Tables para Análisis Comparativo (20 Puntos)"
      ],
      "metadata": {
        "id": "RifbiKVVGOSA"
      }
    },
    {
      "cell_type": "markdown",
      "source": [
        "\n",
        "4.1 Pivot Table para Análisis de Goles por Temporada y Estilo de Juego (10 Puntos)\n",
        "Creamos una pivot table para comparar cómo el estilo de juego de los equipos influye en el promedio de goles por temporada."
      ],
      "metadata": {
        "id": "cd5zw1CaGNYn"
      }
    },
    {
      "cell_type": "code",
      "source": [
        "final_df['date'] = pd.to_datetime(final_df['date'])\n",
        "\n",
        "final_df['season'] = final_df['date'].dt.year\n",
        "\n",
        "final_df['buildUpPlaySpeed_bins'] = pd.cut(final_df['home_buildUpPlaySpeed'], bins=[0, 30, 60, 90, 100], labels=['Slow', 'Medium', 'Fast', 'Very Fast'])"
      ],
      "metadata": {
        "id": "EHnkSMUE0nCi"
      },
      "execution_count": null,
      "outputs": []
    },
    {
      "cell_type": "code",
      "source": [
        "pivot_table = pd.pivot_table(\n",
        "    final_df,\n",
        "    values=['home_team_goal', 'away_team_goal'],\n",
        "    index='season',\n",
        "    columns='buildUpPlaySpeed_bins',\n",
        "    aggfunc='mean'\n",
        ")\n",
        "\n",
        "print(pivot_table)"
      ],
      "metadata": {
        "id": "HQkZmZk80q4R",
        "outputId": "3bfa77e1-1836-488f-f420-962c28e134d1",
        "colab": {
          "base_uri": "https://localhost:8080/"
        }
      },
      "execution_count": null,
      "outputs": [
        {
          "output_type": "stream",
          "name": "stdout",
          "text": [
            "                      away_team_goal                     home_team_goal  \\\n",
            "buildUpPlaySpeed_bins           Slow    Medium      Fast           Slow   \n",
            "season                                                                    \n",
            "2010                             1.5       NaN       NaN            1.5   \n",
            "2011                             NaN  0.000000  0.500000            NaN   \n",
            "2012                             NaN  1.333333  1.333333            NaN   \n",
            "2013                             0.0  1.500000  1.500000            3.0   \n",
            "2014                             NaN  1.285714  1.000000            NaN   \n",
            "\n",
            "                                      \n",
            "buildUpPlaySpeed_bins    Medium Fast  \n",
            "season                                \n",
            "2010                        NaN  NaN  \n",
            "2011                   1.000000  1.5  \n",
            "2012                   2.000000  2.0  \n",
            "2013                   1.500000  2.5  \n",
            "2014                   1.285714  0.0  \n"
          ]
        },
        {
          "output_type": "stream",
          "name": "stderr",
          "text": [
            "<ipython-input-19-d0bf5dc3512b>:1: FutureWarning: The default value of observed=False is deprecated and will change to observed=True in a future version of pandas. Specify observed=False to silence this warning and retain the current behavior\n",
            "  pivot_table = pd.pivot_table(\n"
          ]
        }
      ]
    },
    {
      "cell_type": "markdown",
      "source": [
        "Pregunta de Negocio:\n",
        "\n",
        "¿Qué estilos de juego han sido más efectivos a lo largo de las temporadas? ¿Los equipos deberían adaptar su estrategia en función del tipo de juego que otros equipos han utilizado con éxito en cada temporada?\n"
      ],
      "metadata": {
        "id": "wN_G466tGVWG"
      }
    },
    {
      "cell_type": "markdown",
      "source": [
        "4.2 Visualización Comparativa del Estilo de Juego (10 Puntos)\n",
        "Visualizamos los resultados de la pivot table utilizando un gráfico de barras apiladas para comparar los promedios de goles por temporada y estilo de juego."
      ],
      "metadata": {
        "id": "nxKFraKwGWrO"
      }
    },
    {
      "cell_type": "code",
      "source": [
        "pivot_table = pd.pivot_table(\n",
        "    final_df,\n",
        "    values='home_team_goal',\n",
        "    index='season',\n",
        "    columns='buildUpPlaySpeed_bins',\n",
        "    aggfunc='mean',\n",
        ")\n",
        "\n",
        "pivot_table.plot(kind='bar', stacked=True, figsize=(10, 6))\n",
        "plt.title('Average Goals per Season by Playing Style')\n",
        "plt.xlabel('Season')\n",
        "plt.ylabel('Average Goals')\n",
        "plt.legend(title='Playing Style')\n",
        "plt.xticks(rotation=45)\n",
        "plt.show()"
      ],
      "metadata": {
        "id": "ODgi2-gkGX1m",
        "outputId": "6ae486c2-14ff-4b6d-9a0e-396ff6773907",
        "colab": {
          "base_uri": "https://localhost:8080/",
          "height": 640
        }
      },
      "execution_count": null,
      "outputs": [
        {
          "output_type": "stream",
          "name": "stderr",
          "text": [
            "<ipython-input-20-6fdc4cb104f1>:1: FutureWarning: The default value of observed=False is deprecated and will change to observed=True in a future version of pandas. Specify observed=False to silence this warning and retain the current behavior\n",
            "  pivot_table = pd.pivot_table(\n"
          ]
        },
        {
          "output_type": "display_data",
          "data": {
            "text/plain": [
              "<Figure size 1000x600 with 1 Axes>"
            ],
            "image/png": "[encoded data removed]"
          },
          "metadata": {}
        }
      ]
    },
    {
      "cell_type": "markdown",
      "source": [
        "Pregunta de Negocio:\n",
        "\n",
        "¿Cómo puede el análisis de los estilos de juego ayudar a los equipos a decidir cómo enfrentar a sus oponentes en futuras temporadas? ¿Deberían cambiar su estilo de juego según los rivales?\n",
        "\n",
        "R/ Los estilos de juego con velocidades de construcción rápidas suelen tener más goles en promedio, aunque las tendencias pueden cambiar cada temporada. Los equipos deben analizar estas variaciones y ajustar sus estrategias según los estilos exitosos de otros equipos, lo que les permite mantenerse competitivos y aprovechar ventajas tácticas según la efectividad actual.\n",
        "\n",
        "\n",
        "\n",
        "\n"
      ],
      "metadata": {
        "id": "3qCeECeHGakm"
      }
    },
    {
      "cell_type": "markdown",
      "source": [
        "##Parte 5: Conclusión y Storytelling (20 Puntos)\n",
        "5.1 Storytelling Basado en los Insights"
      ],
      "metadata": {
        "id": "ZfLzxdkiGfrH"
      }
    },
    {
      "cell_type": "markdown",
      "source": [
        "Obtenidos (10 Puntos)\n",
        "Con base en todos los análisis anteriores, redacta una narrativa que explique los insights obtenidos. Asegúrate de incluir cómo la tendencia de los goles y el estilo de juego de los equipos ha evolucionado con el tiempo.\n",
        "\n",
        "Puntos a incluir en el Storytelling:\n",
        "\n",
        "¿Qué equipos han sido los más dominantes en las últimas temporadas y por qué?\n",
        "¿Cómo han cambiado los estilos de juego y cómo eso ha influido en los resultados?\n",
        "¿Qué tipo de ajustes tácticos pueden hacer los equipos según los resultados de este análisis?\n",
        "\n",
        "R/El análisis de datos muestra que una mayor velocidad de juego puede llevar a más goles, aunque esta relación varía por temporada. En los últimos años, ha habido un descenso en los goles, lo que sugiere un cambio en los enfoques tácticos.\n",
        "Identificar a los equipos dominantes requiere un análisis más profundo. Sin embargo, los equipos con estilos de juego rápidos y adaptables suelen tener más éxito, ya que el aumento de la velocidad ha generado más oportunidades de gol. Ajustar la táctica según fortalezas propias y debilidades del oponente ayuda a equilibrar velocidad y defensa.\n",
        "\n",
        "\n",
        "\n",
        "\n",
        "\n",
        "\n",
        "\n",
        "\n",
        "\n",
        "\n",
        "\n",
        "\n"
      ],
      "metadata": {
        "id": "n9j3rAtwGefD"
      }
    },
    {
      "cell_type": "markdown",
      "source": [
        "5.2 Conclusión y Recomendaciones Finales (10 Puntos)\n",
        "Proporciona una conclusión basada en el análisis y da recomendaciones prácticas para los equipos. Considera cómo los datos analizados pueden ayudar en la toma de decisiones estratégicas, como la compra de jugadores, tácticas de juego, y preparación para futuras temporadas.\n",
        "\n",
        "R/ Los equipos deben usar datos para tomar decisiones informadas sobre su estilo de juego. La adaptabilidad es clave, ajustando estrategias según el oponente y las tendencias. Al entender la relación entre velocidad, goles y riesgos defensivos, pueden optimizar tácticas para lograr más éxito. El análisis continuo es crucial para mantenerse competitivo."
      ],
      "metadata": {
        "id": "Uz54UC0tHIQ4"
      }
    }
  ]
}